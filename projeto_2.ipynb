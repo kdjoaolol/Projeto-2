{
 "cells": [
  {
   "cell_type": "code",
   "execution_count": 2,
   "id": "5f2b6eb2-7816-4da8-8085-a430370a24aa",
   "metadata": {
    "tags": []
   },
   "outputs": [],
   "source": [
    "import pandas as pd \n",
    "import numpy as np\n",
    "import lightgbm as lgb\n",
    "import seaborn as sns\n",
    "import warnings\n",
    "import matplotlib.pyplot as plt\n",
    "from sklearn.preprocessing import OneHotEncoder, StandardScaler\n",
    "from sklearn.model_selection import train_test_split, cross_val_score, KFold\n",
    "from sklearn.linear_model import LogisticRegressionCV\n",
    "from sklearn.ensemble import RandomForestClassifier, AdaBoostClassifier, GradientBoostingClassifier\n",
    "from sklearn.svm import LinearSVC\n",
    "from sklearn.metrics import accuracy_score, recall_score, confusion_matrix, precision_score\n",
    "\n",
    "\n",
    "plt.rcParams[\"figure.figsize\"] = (14,8)\n",
    "warnings.filterwarnings(\"ignore\")"
   ]
  },
  {
   "cell_type": "code",
   "execution_count": 3,
   "id": "a35e24d3-57ac-4af3-8acb-21edeb618c7a",
   "metadata": {},
   "outputs": [],
   "source": [
    "loas_dataset = pd.read_csv('loan_predictions.csv')"
   ]
  },
  {
   "cell_type": "markdown",
   "id": "1e67d61b-840f-47cf-a2e9-de3721ee87c7",
   "metadata": {},
   "source": [
    "<ul>\n",
    "    <li>Empréstimo_ID\tID de empréstimo exclusivo</li>\n",
    "    <li>Gênero\tMasculino feminino</li>\n",
    "    <li>Casado\tRequerente casado (S/N)</li>\n",
    "    <li>Dependentes\tNúmero de dependentes</li>\n",
    "    <li>Educação\tEducação do candidato (Graduação/Graduação)</li>\n",
    "    <li>Trabalhadores por conta própria\tAutônomo (S/N)</li>\n",
    "    <li>Renda do Candidato\tRenda do solicitante</li>\n",
    "    <li>Renda do requerente\tRenda do co-requerente</li>\n",
    "    <li>Montante do empréstimo\tValor do empréstimo em milhares</li>\n",
    "    <li>Empréstimo_Valor_Prazo\tPrazo do empréstimo em meses</li>\n",
    "    <li>Histórico de crédito\thistórico de crédito atende às diretrizes</li>\n",
    "    <li>Propriedade_Área\tUrbano/Semiurbano/Rural</li>\n",
    "    <li>Empréstimo_Status\t(Meta) Empréstimo aprovado (S/N)</li>\n",
    "</ul>"
   ]
  },
  {
   "cell_type": "markdown",
   "id": "a925414f-808e-4de4-9539-ff64982ef751",
   "metadata": {},
   "source": [
    "# Visao geral inicial\n",
    "\n",
    "Essa base trata-se de dados de emprestimo, que possivelmente foi tomada as decisões manualmente, teve uma pessoa ou uma equipe que analisou caso por caso e decidiu se iria dar ou nao o emprestimo, o nosso objetivo como cientista de dados é automatizar esse processo de aprovação ou reprovação de emprestimos, acredito que seria interessante ter mais um status chamado \"derivar\" que seria casos em que nao é recomendado um modelo decidir, altos valores por exemplo ou ate mesmo casos em que o modelo tenha 50% de probabilidade... No mundo real seria interessante delimitar regras iniciais como, a previsão do modelo deve ter 70% ou mais de probabilidade de ser N ou Y, caso contrato iria derivar para a mesa de analistas. Inicialmente são coisas que eu pensaria antes mesmo de criar um modelo, apesar de, num mundo ideal seria tudo automatizado, na realizade nao é bem assim, temos que tentar tirar o maximo de trabalho de nossos analistas e faze-los focar em casos em que a habilidade e experiencia de negocio fale mais alto."
   ]
  },
  {
   "cell_type": "markdown",
   "id": "daf90af0-89a9-4bb5-ac2b-0b80f27b9705",
   "metadata": {},
   "source": [
    "# Atalhos\n",
    "\n",
    "Como é uma base relativamente pequena, irei abri-la no excel para observar coisas como quantidade de variaveis entre outros, caso fosse uma base extremamente grande e robusta, usaria o pandas ou ate mesmo o spark para fazer o processamento de dados, mas como queremos agilizade, o excel me parece uma boa ferramenta para esse caso"
   ]
  },
  {
   "cell_type": "markdown",
   "id": "e7b9357c-d696-46cc-ba1b-a3e7796b8872",
   "metadata": {},
   "source": [
    "# Sugestão\n",
    "\n",
    "trazer a idade de cada solicitante, iria ajudar no algoritmo"
   ]
  },
  {
   "cell_type": "code",
   "execution_count": 4,
   "id": "294ffc4c-ebb4-41d1-8770-44c41c0129fc",
   "metadata": {},
   "outputs": [
    {
     "data": {
      "text/plain": [
       "Loan_ID               0\n",
       "Gender               13\n",
       "Married               3\n",
       "Dependents           15\n",
       "Education             0\n",
       "Self_Employed        32\n",
       "ApplicantIncome       0\n",
       "CoapplicantIncome     0\n",
       "LoanAmount           22\n",
       "Loan_Amount_Term     14\n",
       "Credit_History       50\n",
       "Property_Area         0\n",
       "Loan_Status           0\n",
       "dtype: int64"
      ]
     },
     "execution_count": 4,
     "metadata": {},
     "output_type": "execute_result"
    }
   ],
   "source": [
    "loas_dataset.isnull().sum()"
   ]
  },
  {
   "cell_type": "code",
   "execution_count": 5,
   "id": "2c31ea49-e77a-4745-b71d-e12cc224d1fc",
   "metadata": {},
   "outputs": [
    {
     "data": {
      "text/html": [
       "<div>\n",
       "<style scoped>\n",
       "    .dataframe tbody tr th:only-of-type {\n",
       "        vertical-align: middle;\n",
       "    }\n",
       "\n",
       "    .dataframe tbody tr th {\n",
       "        vertical-align: top;\n",
       "    }\n",
       "\n",
       "    .dataframe thead th {\n",
       "        text-align: right;\n",
       "    }\n",
       "</style>\n",
       "<table border=\"1\" class=\"dataframe\">\n",
       "  <thead>\n",
       "    <tr style=\"text-align: right;\">\n",
       "      <th></th>\n",
       "      <th>Loan_ID</th>\n",
       "      <th>Gender</th>\n",
       "      <th>Married</th>\n",
       "      <th>Dependents</th>\n",
       "      <th>Education</th>\n",
       "      <th>Self_Employed</th>\n",
       "      <th>ApplicantIncome</th>\n",
       "      <th>CoapplicantIncome</th>\n",
       "      <th>LoanAmount</th>\n",
       "      <th>Loan_Amount_Term</th>\n",
       "      <th>Credit_History</th>\n",
       "      <th>Property_Area</th>\n",
       "      <th>Loan_Status</th>\n",
       "    </tr>\n",
       "  </thead>\n",
       "  <tbody>\n",
       "    <tr>\n",
       "      <th>0</th>\n",
       "      <td>LP001002</td>\n",
       "      <td>Male</td>\n",
       "      <td>No</td>\n",
       "      <td>0</td>\n",
       "      <td>Graduate</td>\n",
       "      <td>No</td>\n",
       "      <td>5849</td>\n",
       "      <td>0.0</td>\n",
       "      <td>NaN</td>\n",
       "      <td>360.0</td>\n",
       "      <td>1.0</td>\n",
       "      <td>Urban</td>\n",
       "      <td>Y</td>\n",
       "    </tr>\n",
       "    <tr>\n",
       "      <th>1</th>\n",
       "      <td>LP001003</td>\n",
       "      <td>Male</td>\n",
       "      <td>Yes</td>\n",
       "      <td>1</td>\n",
       "      <td>Graduate</td>\n",
       "      <td>No</td>\n",
       "      <td>4583</td>\n",
       "      <td>1508.0</td>\n",
       "      <td>128.0</td>\n",
       "      <td>360.0</td>\n",
       "      <td>1.0</td>\n",
       "      <td>Rural</td>\n",
       "      <td>N</td>\n",
       "    </tr>\n",
       "    <tr>\n",
       "      <th>2</th>\n",
       "      <td>LP001005</td>\n",
       "      <td>Male</td>\n",
       "      <td>Yes</td>\n",
       "      <td>0</td>\n",
       "      <td>Graduate</td>\n",
       "      <td>Yes</td>\n",
       "      <td>3000</td>\n",
       "      <td>0.0</td>\n",
       "      <td>66.0</td>\n",
       "      <td>360.0</td>\n",
       "      <td>1.0</td>\n",
       "      <td>Urban</td>\n",
       "      <td>Y</td>\n",
       "    </tr>\n",
       "    <tr>\n",
       "      <th>3</th>\n",
       "      <td>LP001006</td>\n",
       "      <td>Male</td>\n",
       "      <td>Yes</td>\n",
       "      <td>0</td>\n",
       "      <td>Not Graduate</td>\n",
       "      <td>No</td>\n",
       "      <td>2583</td>\n",
       "      <td>2358.0</td>\n",
       "      <td>120.0</td>\n",
       "      <td>360.0</td>\n",
       "      <td>1.0</td>\n",
       "      <td>Urban</td>\n",
       "      <td>Y</td>\n",
       "    </tr>\n",
       "    <tr>\n",
       "      <th>4</th>\n",
       "      <td>LP001008</td>\n",
       "      <td>Male</td>\n",
       "      <td>No</td>\n",
       "      <td>0</td>\n",
       "      <td>Graduate</td>\n",
       "      <td>No</td>\n",
       "      <td>6000</td>\n",
       "      <td>0.0</td>\n",
       "      <td>141.0</td>\n",
       "      <td>360.0</td>\n",
       "      <td>1.0</td>\n",
       "      <td>Urban</td>\n",
       "      <td>Y</td>\n",
       "    </tr>\n",
       "    <tr>\n",
       "      <th>...</th>\n",
       "      <td>...</td>\n",
       "      <td>...</td>\n",
       "      <td>...</td>\n",
       "      <td>...</td>\n",
       "      <td>...</td>\n",
       "      <td>...</td>\n",
       "      <td>...</td>\n",
       "      <td>...</td>\n",
       "      <td>...</td>\n",
       "      <td>...</td>\n",
       "      <td>...</td>\n",
       "      <td>...</td>\n",
       "      <td>...</td>\n",
       "    </tr>\n",
       "    <tr>\n",
       "      <th>609</th>\n",
       "      <td>LP002978</td>\n",
       "      <td>Female</td>\n",
       "      <td>No</td>\n",
       "      <td>0</td>\n",
       "      <td>Graduate</td>\n",
       "      <td>No</td>\n",
       "      <td>2900</td>\n",
       "      <td>0.0</td>\n",
       "      <td>71.0</td>\n",
       "      <td>360.0</td>\n",
       "      <td>1.0</td>\n",
       "      <td>Rural</td>\n",
       "      <td>Y</td>\n",
       "    </tr>\n",
       "    <tr>\n",
       "      <th>610</th>\n",
       "      <td>LP002979</td>\n",
       "      <td>Male</td>\n",
       "      <td>Yes</td>\n",
       "      <td>3+</td>\n",
       "      <td>Graduate</td>\n",
       "      <td>No</td>\n",
       "      <td>4106</td>\n",
       "      <td>0.0</td>\n",
       "      <td>40.0</td>\n",
       "      <td>180.0</td>\n",
       "      <td>1.0</td>\n",
       "      <td>Rural</td>\n",
       "      <td>Y</td>\n",
       "    </tr>\n",
       "    <tr>\n",
       "      <th>611</th>\n",
       "      <td>LP002983</td>\n",
       "      <td>Male</td>\n",
       "      <td>Yes</td>\n",
       "      <td>1</td>\n",
       "      <td>Graduate</td>\n",
       "      <td>No</td>\n",
       "      <td>8072</td>\n",
       "      <td>240.0</td>\n",
       "      <td>253.0</td>\n",
       "      <td>360.0</td>\n",
       "      <td>1.0</td>\n",
       "      <td>Urban</td>\n",
       "      <td>Y</td>\n",
       "    </tr>\n",
       "    <tr>\n",
       "      <th>612</th>\n",
       "      <td>LP002984</td>\n",
       "      <td>Male</td>\n",
       "      <td>Yes</td>\n",
       "      <td>2</td>\n",
       "      <td>Graduate</td>\n",
       "      <td>No</td>\n",
       "      <td>7583</td>\n",
       "      <td>0.0</td>\n",
       "      <td>187.0</td>\n",
       "      <td>360.0</td>\n",
       "      <td>1.0</td>\n",
       "      <td>Urban</td>\n",
       "      <td>Y</td>\n",
       "    </tr>\n",
       "    <tr>\n",
       "      <th>613</th>\n",
       "      <td>LP002990</td>\n",
       "      <td>Female</td>\n",
       "      <td>No</td>\n",
       "      <td>0</td>\n",
       "      <td>Graduate</td>\n",
       "      <td>Yes</td>\n",
       "      <td>4583</td>\n",
       "      <td>0.0</td>\n",
       "      <td>133.0</td>\n",
       "      <td>360.0</td>\n",
       "      <td>0.0</td>\n",
       "      <td>Semiurban</td>\n",
       "      <td>N</td>\n",
       "    </tr>\n",
       "  </tbody>\n",
       "</table>\n",
       "<p>614 rows × 13 columns</p>\n",
       "</div>"
      ],
      "text/plain": [
       "      Loan_ID  Gender Married Dependents     Education Self_Employed  \\\n",
       "0    LP001002    Male      No          0      Graduate            No   \n",
       "1    LP001003    Male     Yes          1      Graduate            No   \n",
       "2    LP001005    Male     Yes          0      Graduate           Yes   \n",
       "3    LP001006    Male     Yes          0  Not Graduate            No   \n",
       "4    LP001008    Male      No          0      Graduate            No   \n",
       "..        ...     ...     ...        ...           ...           ...   \n",
       "609  LP002978  Female      No          0      Graduate            No   \n",
       "610  LP002979    Male     Yes         3+      Graduate            No   \n",
       "611  LP002983    Male     Yes          1      Graduate            No   \n",
       "612  LP002984    Male     Yes          2      Graduate            No   \n",
       "613  LP002990  Female      No          0      Graduate           Yes   \n",
       "\n",
       "     ApplicantIncome  CoapplicantIncome  LoanAmount  Loan_Amount_Term  \\\n",
       "0               5849                0.0         NaN             360.0   \n",
       "1               4583             1508.0       128.0             360.0   \n",
       "2               3000                0.0        66.0             360.0   \n",
       "3               2583             2358.0       120.0             360.0   \n",
       "4               6000                0.0       141.0             360.0   \n",
       "..               ...                ...         ...               ...   \n",
       "609             2900                0.0        71.0             360.0   \n",
       "610             4106                0.0        40.0             180.0   \n",
       "611             8072              240.0       253.0             360.0   \n",
       "612             7583                0.0       187.0             360.0   \n",
       "613             4583                0.0       133.0             360.0   \n",
       "\n",
       "     Credit_History Property_Area Loan_Status  \n",
       "0               1.0         Urban           Y  \n",
       "1               1.0         Rural           N  \n",
       "2               1.0         Urban           Y  \n",
       "3               1.0         Urban           Y  \n",
       "4               1.0         Urban           Y  \n",
       "..              ...           ...         ...  \n",
       "609             1.0         Rural           Y  \n",
       "610             1.0         Rural           Y  \n",
       "611             1.0         Urban           Y  \n",
       "612             1.0         Urban           Y  \n",
       "613             0.0     Semiurban           N  \n",
       "\n",
       "[614 rows x 13 columns]"
      ]
     },
     "execution_count": 5,
     "metadata": {},
     "output_type": "execute_result"
    }
   ],
   "source": [
    "loas_dataset"
   ]
  },
  {
   "cell_type": "code",
   "execution_count": 6,
   "id": "a10cca85-4c63-46df-9e1a-5c2eedf4d8b2",
   "metadata": {},
   "outputs": [
    {
     "data": {
      "image/png": "[encoded data removed]",
      "text/plain": [
       "<Figure size 1008x576 with 1 Axes>"
      ]
     },
     "metadata": {
      "needs_background": "light"
     },
     "output_type": "display_data"
    },
    {
     "data": {
      "text/html": [
       "<div>\n",
       "<style scoped>\n",
       "    .dataframe tbody tr th:only-of-type {\n",
       "        vertical-align: middle;\n",
       "    }\n",
       "\n",
       "    .dataframe tbody tr th {\n",
       "        vertical-align: top;\n",
       "    }\n",
       "\n",
       "    .dataframe thead th {\n",
       "        text-align: right;\n",
       "    }\n",
       "</style>\n",
       "<table border=\"1\" class=\"dataframe\">\n",
       "  <thead>\n",
       "    <tr style=\"text-align: right;\">\n",
       "      <th></th>\n",
       "      <th></th>\n",
       "      <th>Loan_ID</th>\n",
       "    </tr>\n",
       "    <tr>\n",
       "      <th>Gender</th>\n",
       "      <th>Loan_Status</th>\n",
       "      <th></th>\n",
       "    </tr>\n",
       "  </thead>\n",
       "  <tbody>\n",
       "    <tr>\n",
       "      <th rowspan=\"2\" valign=\"top\">Female</th>\n",
       "      <th>N</th>\n",
       "      <td>0.330357</td>\n",
       "    </tr>\n",
       "    <tr>\n",
       "      <th>Y</th>\n",
       "      <td>0.669643</td>\n",
       "    </tr>\n",
       "    <tr>\n",
       "      <th rowspan=\"2\" valign=\"top\">Male</th>\n",
       "      <th>N</th>\n",
       "      <td>0.306748</td>\n",
       "    </tr>\n",
       "    <tr>\n",
       "      <th>Y</th>\n",
       "      <td>0.693252</td>\n",
       "    </tr>\n",
       "  </tbody>\n",
       "</table>\n",
       "</div>"
      ],
      "text/plain": [
       "                     Loan_ID\n",
       "Gender Loan_Status          \n",
       "Female N            0.330357\n",
       "       Y            0.669643\n",
       "Male   N            0.306748\n",
       "       Y            0.693252"
      ]
     },
     "metadata": {},
     "output_type": "display_data"
    }
   ],
   "source": [
    "genero_target_count = loas_dataset[['Loan_Status', 'Gender', 'Loan_ID']].groupby(['Loan_Status', 'Gender']).count().reset_index()\n",
    "ax = sns.barplot(data=genero_target_count, x='Gender', y='Loan_ID', hue='Loan_Status')\n",
    "# Loop to add on each bar a tag in position\n",
    "for rect in ax.patches:\n",
    "    height = rect.get_height()\n",
    "    ax.text(rect.get_x() + rect.get_width()/2., 1*height,\n",
    "                '%d' % int(height),\n",
    "                ha='center', va='bottom')\n",
    "plt.show()\n",
    "display(loas_dataset[['Loan_Status', 'Gender', 'Loan_ID']].groupby(['Gender', 'Loan_Status']).count()/loas_dataset[['Gender', 'Loan_ID']].groupby(['Gender']).count())"
   ]
  },
  {
   "cell_type": "code",
   "execution_count": 7,
   "id": "452fddac-fc9e-49a3-b782-7e81f82a9541",
   "metadata": {},
   "outputs": [
    {
     "data": {
      "image/png": "[encoded data removed]",
      "text/plain": [
       "<Figure size 1008x576 with 1 Axes>"
      ]
     },
     "metadata": {
      "needs_background": "light"
     },
     "output_type": "display_data"
    },
    {
     "data": {
      "text/html": [
       "<div>\n",
       "<style scoped>\n",
       "    .dataframe tbody tr th:only-of-type {\n",
       "        vertical-align: middle;\n",
       "    }\n",
       "\n",
       "    .dataframe tbody tr th {\n",
       "        vertical-align: top;\n",
       "    }\n",
       "\n",
       "    .dataframe thead th {\n",
       "        text-align: right;\n",
       "    }\n",
       "</style>\n",
       "<table border=\"1\" class=\"dataframe\">\n",
       "  <thead>\n",
       "    <tr style=\"text-align: right;\">\n",
       "      <th></th>\n",
       "      <th></th>\n",
       "      <th>Loan_ID</th>\n",
       "    </tr>\n",
       "    <tr>\n",
       "      <th>Dependents</th>\n",
       "      <th>Loan_Status</th>\n",
       "      <th></th>\n",
       "    </tr>\n",
       "  </thead>\n",
       "  <tbody>\n",
       "    <tr>\n",
       "      <th rowspan=\"2\" valign=\"top\">0</th>\n",
       "      <th>N</th>\n",
       "      <td>0.310145</td>\n",
       "    </tr>\n",
       "    <tr>\n",
       "      <th>Y</th>\n",
       "      <td>0.689855</td>\n",
       "    </tr>\n",
       "    <tr>\n",
       "      <th rowspan=\"2\" valign=\"top\">1</th>\n",
       "      <th>N</th>\n",
       "      <td>0.352941</td>\n",
       "    </tr>\n",
       "    <tr>\n",
       "      <th>Y</th>\n",
       "      <td>0.647059</td>\n",
       "    </tr>\n",
       "    <tr>\n",
       "      <th rowspan=\"2\" valign=\"top\">2</th>\n",
       "      <th>N</th>\n",
       "      <td>0.247525</td>\n",
       "    </tr>\n",
       "    <tr>\n",
       "      <th>Y</th>\n",
       "      <td>0.752475</td>\n",
       "    </tr>\n",
       "    <tr>\n",
       "      <th rowspan=\"2\" valign=\"top\">3+</th>\n",
       "      <th>N</th>\n",
       "      <td>0.352941</td>\n",
       "    </tr>\n",
       "    <tr>\n",
       "      <th>Y</th>\n",
       "      <td>0.647059</td>\n",
       "    </tr>\n",
       "  </tbody>\n",
       "</table>\n",
       "</div>"
      ],
      "text/plain": [
       "                         Loan_ID\n",
       "Dependents Loan_Status          \n",
       "0          N            0.310145\n",
       "           Y            0.689855\n",
       "1          N            0.352941\n",
       "           Y            0.647059\n",
       "2          N            0.247525\n",
       "           Y            0.752475\n",
       "3+         N            0.352941\n",
       "           Y            0.647059"
      ]
     },
     "metadata": {},
     "output_type": "display_data"
    }
   ],
   "source": [
    "dependents_target_count = loas_dataset[['Loan_Status', 'Dependents', 'Loan_ID']].groupby(['Loan_Status', 'Dependents']).count().reset_index()\n",
    "ax = sns.barplot(data=dependents_target_count, x='Dependents', y='Loan_ID', hue='Loan_Status')\n",
    "for rect in ax.patches:\n",
    "    height = rect.get_height()\n",
    "    ax.text(rect.get_x() + rect.get_width()/2., 1*height,\n",
    "                '%d' % int(height),\n",
    "                ha='center', va='bottom')\n",
    "\n",
    "plt.show()\n",
    "display(loas_dataset[['Loan_Status', 'Dependents', 'Loan_ID']].groupby(['Dependents', 'Loan_Status']).count()/loas_dataset[['Dependents', 'Loan_ID']].groupby(['Dependents']).count())"
   ]
  },
  {
   "cell_type": "code",
   "execution_count": 8,
   "id": "08b96039-62b6-4433-8ab0-8d351e45f955",
   "metadata": {},
   "outputs": [
    {
     "data": {
      "image/png": "[encoded data removed]",
      "text/plain": [
       "<Figure size 1008x576 with 1 Axes>"
      ]
     },
     "metadata": {
      "needs_background": "light"
     },
     "output_type": "display_data"
    },
    {
     "data": {
      "text/html": [
       "<div>\n",
       "<style scoped>\n",
       "    .dataframe tbody tr th:only-of-type {\n",
       "        vertical-align: middle;\n",
       "    }\n",
       "\n",
       "    .dataframe tbody tr th {\n",
       "        vertical-align: top;\n",
       "    }\n",
       "\n",
       "    .dataframe thead th {\n",
       "        text-align: right;\n",
       "    }\n",
       "</style>\n",
       "<table border=\"1\" class=\"dataframe\">\n",
       "  <thead>\n",
       "    <tr style=\"text-align: right;\">\n",
       "      <th></th>\n",
       "      <th></th>\n",
       "      <th>Loan_ID</th>\n",
       "    </tr>\n",
       "    <tr>\n",
       "      <th>Credit_History</th>\n",
       "      <th>Loan_Status</th>\n",
       "      <th></th>\n",
       "    </tr>\n",
       "  </thead>\n",
       "  <tbody>\n",
       "    <tr>\n",
       "      <th rowspan=\"2\" valign=\"top\">0.0</th>\n",
       "      <th>N</th>\n",
       "      <td>0.921348</td>\n",
       "    </tr>\n",
       "    <tr>\n",
       "      <th>Y</th>\n",
       "      <td>0.078652</td>\n",
       "    </tr>\n",
       "    <tr>\n",
       "      <th rowspan=\"2\" valign=\"top\">1.0</th>\n",
       "      <th>N</th>\n",
       "      <td>0.204211</td>\n",
       "    </tr>\n",
       "    <tr>\n",
       "      <th>Y</th>\n",
       "      <td>0.795789</td>\n",
       "    </tr>\n",
       "  </tbody>\n",
       "</table>\n",
       "</div>"
      ],
      "text/plain": [
       "                             Loan_ID\n",
       "Credit_History Loan_Status          \n",
       "0.0            N            0.921348\n",
       "               Y            0.078652\n",
       "1.0            N            0.204211\n",
       "               Y            0.795789"
      ]
     },
     "metadata": {},
     "output_type": "display_data"
    }
   ],
   "source": [
    "genero_target_count = loas_dataset[['Loan_Status', 'Credit_History', 'Loan_ID']].groupby(['Loan_Status', 'Credit_History']).count().reset_index()\n",
    "ax = sns.barplot(data=genero_target_count, x='Credit_History', y='Loan_ID', hue='Loan_Status')\n",
    "\n",
    "for rect in ax.patches:\n",
    "    height = rect.get_height()\n",
    "    ax.text(rect.get_x() + rect.get_width()/2., 1*height,\n",
    "                '%d' % int(height),\n",
    "                ha='center', va='bottom')\n",
    "\n",
    "plt.show()\n",
    "display(loas_dataset[['Loan_Status', 'Credit_History', 'Loan_ID']].groupby(['Credit_History', 'Loan_Status']).count()/loas_dataset[['Credit_History', 'Loan_ID']].groupby(['Credit_History']).count())"
   ]
  },
  {
   "cell_type": "code",
   "execution_count": 9,
   "id": "44c1b50c-7df4-430d-adb6-06371139d18b",
   "metadata": {},
   "outputs": [],
   "source": [
    "from sklearn.impute import SimpleImputer"
   ]
  },
  {
   "cell_type": "code",
   "execution_count": 10,
   "id": "1673a4e3-3571-46ed-8e96-63673db5b670",
   "metadata": {},
   "outputs": [],
   "source": [
    "imputador_categorico = SimpleImputer(strategy='most_frequent', missing_values=np.nan)\n",
    "imputador_numerico = SimpleImputer(strategy='median', missing_values=np.nan)"
   ]
  },
  {
   "cell_type": "code",
   "execution_count": 11,
   "id": "82ead187-9ef3-4652-b5a1-7aba732d6b64",
   "metadata": {},
   "outputs": [],
   "source": [
    "loas_dataset['Credit_History'] = loas_dataset['Credit_History'].astype('object')"
   ]
  },
  {
   "cell_type": "code",
   "execution_count": 12,
   "id": "72f4b195-239b-471d-8e8d-f78d27e820e3",
   "metadata": {},
   "outputs": [],
   "source": [
    "categoticos = loas_dataset.select_dtypes(include=['object']).fillna(np.nan)\n",
    "numerais    = loas_dataset.select_dtypes(exclude=['object']).fillna(np.nan)"
   ]
  },
  {
   "cell_type": "code",
   "execution_count": 13,
   "id": "18cbdc2a-2ff1-4fbf-aea1-a6f4670d8718",
   "metadata": {},
   "outputs": [],
   "source": [
    "numerais = pd.DataFrame(imputador_numerico.fit_transform(numerais), columns = numerais.columns)\n",
    "categoticos = pd.DataFrame(imputador_categorico.fit_transform(categoticos), columns = categoticos.columns)\n",
    "\n",
    "loas_dataset_tratada = pd.concat((numerais, categoticos), axis=1)"
   ]
  },
  {
   "cell_type": "code",
   "execution_count": 14,
   "id": "e66f8384-4e93-4018-910b-d3fd4e70a8d1",
   "metadata": {},
   "outputs": [],
   "source": [
    "loas_dataset_tratada['vl_parcela_mensal'] = loas_dataset_tratada['LoanAmount']*1000/loas_dataset_tratada['Loan_Amount_Term']\n",
    "loas_dataset_tratada['salario_total'] = loas_dataset_tratada['ApplicantIncome'] + loas_dataset_tratada['CoapplicantIncome']\n",
    "loas_dataset_tratada['percentual_salario'] = loas_dataset_tratada['vl_parcela_mensal']/loas_dataset_tratada['salario_total']"
   ]
  },
  {
   "cell_type": "code",
   "execution_count": 15,
   "id": "06c79bf4-c6d2-4879-ac58-da5676a2dc49",
   "metadata": {},
   "outputs": [
    {
     "data": {
      "text/plain": [
       "count    614.000000\n",
       "mean       0.077391\n",
       "std        0.079017\n",
       "min        0.007008\n",
       "25%        0.055302\n",
       "50%        0.068970\n",
       "75%        0.081695\n",
       "max        1.236873\n",
       "Name: percentual_salario, dtype: float64"
      ]
     },
     "execution_count": 15,
     "metadata": {},
     "output_type": "execute_result"
    }
   ],
   "source": [
    "loas_dataset_tratada['percentual_salario'].describe()"
   ]
  },
  {
   "cell_type": "code",
   "execution_count": 16,
   "id": "435c2ebc-8b72-414d-896f-638b1ae7e18a",
   "metadata": {},
   "outputs": [
    {
     "data": {
      "text/html": [
       "<div>\n",
       "<style scoped>\n",
       "    .dataframe tbody tr th:only-of-type {\n",
       "        vertical-align: middle;\n",
       "    }\n",
       "\n",
       "    .dataframe tbody tr th {\n",
       "        vertical-align: top;\n",
       "    }\n",
       "\n",
       "    .dataframe thead th {\n",
       "        text-align: right;\n",
       "    }\n",
       "</style>\n",
       "<table border=\"1\" class=\"dataframe\">\n",
       "  <thead>\n",
       "    <tr style=\"text-align: right;\">\n",
       "      <th></th>\n",
       "      <th>ApplicantIncome</th>\n",
       "      <th>CoapplicantIncome</th>\n",
       "      <th>LoanAmount</th>\n",
       "      <th>Loan_Amount_Term</th>\n",
       "      <th>Loan_ID</th>\n",
       "      <th>Gender</th>\n",
       "      <th>Married</th>\n",
       "      <th>Dependents</th>\n",
       "      <th>Education</th>\n",
       "      <th>Self_Employed</th>\n",
       "      <th>Credit_History</th>\n",
       "      <th>Property_Area</th>\n",
       "      <th>Loan_Status</th>\n",
       "      <th>vl_parcela_mensal</th>\n",
       "      <th>salario_total</th>\n",
       "      <th>percentual_salario</th>\n",
       "    </tr>\n",
       "  </thead>\n",
       "  <tbody>\n",
       "    <tr>\n",
       "      <th>262</th>\n",
       "      <td>3481.0</td>\n",
       "      <td>0.0</td>\n",
       "      <td>155.0</td>\n",
       "      <td>36.0</td>\n",
       "      <td>LP001870</td>\n",
       "      <td>Female</td>\n",
       "      <td>No</td>\n",
       "      <td>1</td>\n",
       "      <td>Graduate</td>\n",
       "      <td>No</td>\n",
       "      <td>1.0</td>\n",
       "      <td>Semiurban</td>\n",
       "      <td>N</td>\n",
       "      <td>4305.555556</td>\n",
       "      <td>3481.0</td>\n",
       "      <td>1.236873</td>\n",
       "    </tr>\n",
       "    <tr>\n",
       "      <th>497</th>\n",
       "      <td>4625.0</td>\n",
       "      <td>2857.0</td>\n",
       "      <td>111.0</td>\n",
       "      <td>12.0</td>\n",
       "      <td>LP002588</td>\n",
       "      <td>Male</td>\n",
       "      <td>Yes</td>\n",
       "      <td>0</td>\n",
       "      <td>Graduate</td>\n",
       "      <td>No</td>\n",
       "      <td>1.0</td>\n",
       "      <td>Urban</td>\n",
       "      <td>Y</td>\n",
       "      <td>9250.000000</td>\n",
       "      <td>7482.0</td>\n",
       "      <td>1.236300</td>\n",
       "    </tr>\n",
       "    <tr>\n",
       "      <th>546</th>\n",
       "      <td>3358.0</td>\n",
       "      <td>0.0</td>\n",
       "      <td>80.0</td>\n",
       "      <td>36.0</td>\n",
       "      <td>LP002768</td>\n",
       "      <td>Male</td>\n",
       "      <td>No</td>\n",
       "      <td>0</td>\n",
       "      <td>Not Graduate</td>\n",
       "      <td>No</td>\n",
       "      <td>1.0</td>\n",
       "      <td>Semiurban</td>\n",
       "      <td>N</td>\n",
       "      <td>2222.222222</td>\n",
       "      <td>3358.0</td>\n",
       "      <td>0.661770</td>\n",
       "    </tr>\n",
       "    <tr>\n",
       "      <th>575</th>\n",
       "      <td>3159.0</td>\n",
       "      <td>461.0</td>\n",
       "      <td>108.0</td>\n",
       "      <td>84.0</td>\n",
       "      <td>LP002868</td>\n",
       "      <td>Male</td>\n",
       "      <td>Yes</td>\n",
       "      <td>2</td>\n",
       "      <td>Graduate</td>\n",
       "      <td>No</td>\n",
       "      <td>1.0</td>\n",
       "      <td>Urban</td>\n",
       "      <td>Y</td>\n",
       "      <td>1285.714286</td>\n",
       "      <td>3620.0</td>\n",
       "      <td>0.355170</td>\n",
       "    </tr>\n",
       "    <tr>\n",
       "      <th>313</th>\n",
       "      <td>5746.0</td>\n",
       "      <td>0.0</td>\n",
       "      <td>144.0</td>\n",
       "      <td>84.0</td>\n",
       "      <td>LP002008</td>\n",
       "      <td>Male</td>\n",
       "      <td>Yes</td>\n",
       "      <td>2</td>\n",
       "      <td>Graduate</td>\n",
       "      <td>Yes</td>\n",
       "      <td>1.0</td>\n",
       "      <td>Rural</td>\n",
       "      <td>Y</td>\n",
       "      <td>1714.285714</td>\n",
       "      <td>5746.0</td>\n",
       "      <td>0.298344</td>\n",
       "    </tr>\n",
       "    <tr>\n",
       "      <th>...</th>\n",
       "      <td>...</td>\n",
       "      <td>...</td>\n",
       "      <td>...</td>\n",
       "      <td>...</td>\n",
       "      <td>...</td>\n",
       "      <td>...</td>\n",
       "      <td>...</td>\n",
       "      <td>...</td>\n",
       "      <td>...</td>\n",
       "      <td>...</td>\n",
       "      <td>...</td>\n",
       "      <td>...</td>\n",
       "      <td>...</td>\n",
       "      <td>...</td>\n",
       "      <td>...</td>\n",
       "      <td>...</td>\n",
       "    </tr>\n",
       "    <tr>\n",
       "      <th>568</th>\n",
       "      <td>2378.0</td>\n",
       "      <td>0.0</td>\n",
       "      <td>9.0</td>\n",
       "      <td>360.0</td>\n",
       "      <td>LP002840</td>\n",
       "      <td>Female</td>\n",
       "      <td>No</td>\n",
       "      <td>0</td>\n",
       "      <td>Graduate</td>\n",
       "      <td>No</td>\n",
       "      <td>1.0</td>\n",
       "      <td>Urban</td>\n",
       "      <td>N</td>\n",
       "      <td>25.000000</td>\n",
       "      <td>2378.0</td>\n",
       "      <td>0.010513</td>\n",
       "    </tr>\n",
       "    <tr>\n",
       "      <th>370</th>\n",
       "      <td>15759.0</td>\n",
       "      <td>0.0</td>\n",
       "      <td>55.0</td>\n",
       "      <td>360.0</td>\n",
       "      <td>LP002194</td>\n",
       "      <td>Female</td>\n",
       "      <td>No</td>\n",
       "      <td>0</td>\n",
       "      <td>Graduate</td>\n",
       "      <td>Yes</td>\n",
       "      <td>1.0</td>\n",
       "      <td>Semiurban</td>\n",
       "      <td>Y</td>\n",
       "      <td>152.777778</td>\n",
       "      <td>15759.0</td>\n",
       "      <td>0.009695</td>\n",
       "    </tr>\n",
       "    <tr>\n",
       "      <th>509</th>\n",
       "      <td>13262.0</td>\n",
       "      <td>0.0</td>\n",
       "      <td>40.0</td>\n",
       "      <td>360.0</td>\n",
       "      <td>LP002634</td>\n",
       "      <td>Female</td>\n",
       "      <td>No</td>\n",
       "      <td>1</td>\n",
       "      <td>Graduate</td>\n",
       "      <td>No</td>\n",
       "      <td>1.0</td>\n",
       "      <td>Urban</td>\n",
       "      <td>Y</td>\n",
       "      <td>111.111111</td>\n",
       "      <td>13262.0</td>\n",
       "      <td>0.008378</td>\n",
       "    </tr>\n",
       "    <tr>\n",
       "      <th>185</th>\n",
       "      <td>39147.0</td>\n",
       "      <td>4750.0</td>\n",
       "      <td>120.0</td>\n",
       "      <td>360.0</td>\n",
       "      <td>LP001640</td>\n",
       "      <td>Male</td>\n",
       "      <td>Yes</td>\n",
       "      <td>0</td>\n",
       "      <td>Graduate</td>\n",
       "      <td>Yes</td>\n",
       "      <td>1.0</td>\n",
       "      <td>Semiurban</td>\n",
       "      <td>Y</td>\n",
       "      <td>333.333333</td>\n",
       "      <td>43897.0</td>\n",
       "      <td>0.007594</td>\n",
       "    </tr>\n",
       "    <tr>\n",
       "      <th>581</th>\n",
       "      <td>1836.0</td>\n",
       "      <td>33837.0</td>\n",
       "      <td>90.0</td>\n",
       "      <td>360.0</td>\n",
       "      <td>LP002893</td>\n",
       "      <td>Male</td>\n",
       "      <td>No</td>\n",
       "      <td>0</td>\n",
       "      <td>Graduate</td>\n",
       "      <td>No</td>\n",
       "      <td>1.0</td>\n",
       "      <td>Urban</td>\n",
       "      <td>N</td>\n",
       "      <td>250.000000</td>\n",
       "      <td>35673.0</td>\n",
       "      <td>0.007008</td>\n",
       "    </tr>\n",
       "  </tbody>\n",
       "</table>\n",
       "<p>614 rows × 16 columns</p>\n",
       "</div>"
      ],
      "text/plain": [
       "     ApplicantIncome  CoapplicantIncome  LoanAmount  Loan_Amount_Term  \\\n",
       "262           3481.0                0.0       155.0              36.0   \n",
       "497           4625.0             2857.0       111.0              12.0   \n",
       "546           3358.0                0.0        80.0              36.0   \n",
       "575           3159.0              461.0       108.0              84.0   \n",
       "313           5746.0                0.0       144.0              84.0   \n",
       "..               ...                ...         ...               ...   \n",
       "568           2378.0                0.0         9.0             360.0   \n",
       "370          15759.0                0.0        55.0             360.0   \n",
       "509          13262.0                0.0        40.0             360.0   \n",
       "185          39147.0             4750.0       120.0             360.0   \n",
       "581           1836.0            33837.0        90.0             360.0   \n",
       "\n",
       "      Loan_ID  Gender Married Dependents     Education Self_Employed  \\\n",
       "262  LP001870  Female      No          1      Graduate            No   \n",
       "497  LP002588    Male     Yes          0      Graduate            No   \n",
       "546  LP002768    Male      No          0  Not Graduate            No   \n",
       "575  LP002868    Male     Yes          2      Graduate            No   \n",
       "313  LP002008    Male     Yes          2      Graduate           Yes   \n",
       "..        ...     ...     ...        ...           ...           ...   \n",
       "568  LP002840  Female      No          0      Graduate            No   \n",
       "370  LP002194  Female      No          0      Graduate           Yes   \n",
       "509  LP002634  Female      No          1      Graduate            No   \n",
       "185  LP001640    Male     Yes          0      Graduate           Yes   \n",
       "581  LP002893    Male      No          0      Graduate            No   \n",
       "\n",
       "    Credit_History Property_Area Loan_Status  vl_parcela_mensal  \\\n",
       "262            1.0     Semiurban           N        4305.555556   \n",
       "497            1.0         Urban           Y        9250.000000   \n",
       "546            1.0     Semiurban           N        2222.222222   \n",
       "575            1.0         Urban           Y        1285.714286   \n",
       "313            1.0         Rural           Y        1714.285714   \n",
       "..             ...           ...         ...                ...   \n",
       "568            1.0         Urban           N          25.000000   \n",
       "370            1.0     Semiurban           Y         152.777778   \n",
       "509            1.0         Urban           Y         111.111111   \n",
       "185            1.0     Semiurban           Y         333.333333   \n",
       "581            1.0         Urban           N         250.000000   \n",
       "\n",
       "     salario_total  percentual_salario  \n",
       "262         3481.0            1.236873  \n",
       "497         7482.0            1.236300  \n",
       "546         3358.0            0.661770  \n",
       "575         3620.0            0.355170  \n",
       "313         5746.0            0.298344  \n",
       "..             ...                 ...  \n",
       "568         2378.0            0.010513  \n",
       "370        15759.0            0.009695  \n",
       "509        13262.0            0.008378  \n",
       "185        43897.0            0.007594  \n",
       "581        35673.0            0.007008  \n",
       "\n",
       "[614 rows x 16 columns]"
      ]
     },
     "execution_count": 16,
     "metadata": {},
     "output_type": "execute_result"
    }
   ],
   "source": [
    "loas_dataset_tratada.sort_values(by='percentual_salario', ascending=False)"
   ]
  },
  {
   "cell_type": "code",
   "execution_count": 17,
   "id": "485a7055-b146-45df-a3ea-6d6c07b95f32",
   "metadata": {},
   "outputs": [
    {
     "data": {
      "text/plain": [
       "<seaborn.axisgrid.JointGrid at 0x1cefd838ee0>"
      ]
     },
     "execution_count": 17,
     "metadata": {},
     "output_type": "execute_result"
    },
    {
     "data": {
      "image/png": "[encoded data removed]",
      "text/plain": [
       "<Figure size 432x432 with 3 Axes>"
      ]
     },
     "metadata": {
      "needs_background": "light"
     },
     "output_type": "display_data"
    }
   ],
   "source": [
    "sns.jointplot(data = loas_dataset_tratada, y='vl_parcela_mensal', x='salario_total', hue='Loan_Status')"
   ]
  },
  {
   "cell_type": "code",
   "execution_count": 18,
   "id": "411fb276-fe62-40a9-98d7-65904d47685d",
   "metadata": {},
   "outputs": [
    {
     "data": {
      "text/plain": [
       "<seaborn.axisgrid.JointGrid at 0x1cefd971310>"
      ]
     },
     "execution_count": 18,
     "metadata": {},
     "output_type": "execute_result"
    },
    {
     "data": {
      "image/png": "[encoded data removed]",
      "text/plain": [
       "<Figure size 432x432 with 3 Axes>"
      ]
     },
     "metadata": {
      "needs_background": "light"
     },
     "output_type": "display_data"
    }
   ],
   "source": [
    "sns.jointplot(data = loas_dataset_tratada, y='LoanAmount', x='salario_total', hue='Loan_Status')"
   ]
  },
  {
   "cell_type": "code",
   "execution_count": 19,
   "id": "e6a8ac2a-0e6a-44b2-844a-8fd8e26ebafd",
   "metadata": {},
   "outputs": [
    {
     "data": {
      "text/plain": [
       "<seaborn.axisgrid.JointGrid at 0x1cefea267c0>"
      ]
     },
     "execution_count": 19,
     "metadata": {},
     "output_type": "execute_result"
    },
    {
     "data": {
      "image/png": "[encoded data removed]",
      "text/plain": [
       "<Figure size 432x432 with 3 Axes>"
      ]
     },
     "metadata": {
      "needs_background": "light"
     },
     "output_type": "display_data"
    }
   ],
   "source": [
    "sns.jointplot(data = loas_dataset_tratada, y='Loan_Amount_Term', x='salario_total', hue='Loan_Status')"
   ]
  },
  {
   "cell_type": "code",
   "execution_count": 20,
   "id": "6f016434-2be7-42c4-b1c3-15cd394bac78",
   "metadata": {},
   "outputs": [
    {
     "data": {
      "text/plain": [
       "<AxesSubplot:xlabel='Credit_History', ylabel='Density'>"
      ]
     },
     "execution_count": 20,
     "metadata": {},
     "output_type": "execute_result"
    },
    {
     "data": {
      "image/png": "[encoded data removed]",
      "text/plain": [
       "<Figure size 1008x576 with 1 Axes>"
      ]
     },
     "metadata": {
      "needs_background": "light"
     },
     "output_type": "display_data"
    }
   ],
   "source": [
    "sns.kdeplot(data = loas_dataset_tratada, x=\"Credit_History\", hue=\"Loan_Status\")"
   ]
  },
  {
   "cell_type": "code",
   "execution_count": 21,
   "id": "89558a70-d9e5-4937-8c72-59d722f0569a",
   "metadata": {},
   "outputs": [
    {
     "data": {
      "text/plain": [
       "<AxesSubplot:xlabel='Credit_History', ylabel='Count'>"
      ]
     },
     "execution_count": 21,
     "metadata": {},
     "output_type": "execute_result"
    },
    {
     "data": {
      "image/png": "[encoded data removed]",
      "text/plain": [
       "<Figure size 1008x576 with 1 Axes>"
      ]
     },
     "metadata": {
      "needs_background": "light"
     },
     "output_type": "display_data"
    }
   ],
   "source": [
    "sns.histplot(data = loas_dataset_tratada, x=\"Credit_History\", hue=\"Loan_Status\", )"
   ]
  },
  {
   "cell_type": "code",
   "execution_count": 22,
   "id": "349e2858-3e6c-4a0b-a8af-ce7c8cd33a4e",
   "metadata": {},
   "outputs": [
    {
     "data": {
      "text/plain": [
       "<AxesSubplot:xlabel='percentual_salario', ylabel='Density'>"
      ]
     },
     "execution_count": 22,
     "metadata": {},
     "output_type": "execute_result"
    },
    {
     "data": {
      "image/png": "[encoded data removed]",
      "text/plain": [
       "<Figure size 1008x576 with 1 Axes>"
      ]
     },
     "metadata": {
      "needs_background": "light"
     },
     "output_type": "display_data"
    }
   ],
   "source": [
    "sns.kdeplot(data = loas_dataset_tratada, x=\"percentual_salario\", hue=\"Loan_Status\")"
   ]
  },
  {
   "cell_type": "code",
   "execution_count": 23,
   "id": "78023eb5-86e0-4e54-90ba-18956be91859",
   "metadata": {},
   "outputs": [
    {
     "data": {
      "text/plain": [
       "<AxesSubplot:>"
      ]
     },
     "execution_count": 23,
     "metadata": {},
     "output_type": "execute_result"
    },
    {
     "data": {
      "image/png": "[encoded data removed]",
      "text/plain": [
       "<Figure size 1008x576 with 2 Axes>"
      ]
     },
     "metadata": {
      "needs_background": "light"
     },
     "output_type": "display_data"
    }
   ],
   "source": [
    "sns.heatmap(loas_dataset_tratada.corr(), annot=True, linewidths=.5, cmap=\"YlGnBu\")"
   ]
  },
  {
   "cell_type": "code",
   "execution_count": 24,
   "id": "83a3d9f1-5e81-48af-bad1-77bd92d53c8a",
   "metadata": {},
   "outputs": [
    {
     "data": {
      "text/html": [
       "<div>\n",
       "<style scoped>\n",
       "    .dataframe tbody tr th:only-of-type {\n",
       "        vertical-align: middle;\n",
       "    }\n",
       "\n",
       "    .dataframe tbody tr th {\n",
       "        vertical-align: top;\n",
       "    }\n",
       "\n",
       "    .dataframe thead th {\n",
       "        text-align: right;\n",
       "    }\n",
       "</style>\n",
       "<table border=\"1\" class=\"dataframe\">\n",
       "  <thead>\n",
       "    <tr style=\"text-align: right;\">\n",
       "      <th></th>\n",
       "      <th>ApplicantIncome</th>\n",
       "      <th>CoapplicantIncome</th>\n",
       "      <th>LoanAmount</th>\n",
       "      <th>Loan_Amount_Term</th>\n",
       "      <th>Loan_ID</th>\n",
       "      <th>Gender</th>\n",
       "      <th>Married</th>\n",
       "      <th>Dependents</th>\n",
       "      <th>Education</th>\n",
       "      <th>Self_Employed</th>\n",
       "      <th>Credit_History</th>\n",
       "      <th>Property_Area</th>\n",
       "      <th>Loan_Status</th>\n",
       "      <th>vl_parcela_mensal</th>\n",
       "      <th>salario_total</th>\n",
       "      <th>percentual_salario</th>\n",
       "    </tr>\n",
       "  </thead>\n",
       "  <tbody>\n",
       "    <tr>\n",
       "      <th>0</th>\n",
       "      <td>5849.0</td>\n",
       "      <td>0.0</td>\n",
       "      <td>128.0</td>\n",
       "      <td>360.0</td>\n",
       "      <td>LP001002</td>\n",
       "      <td>Male</td>\n",
       "      <td>No</td>\n",
       "      <td>0</td>\n",
       "      <td>Graduate</td>\n",
       "      <td>No</td>\n",
       "      <td>1.0</td>\n",
       "      <td>Urban</td>\n",
       "      <td>Y</td>\n",
       "      <td>355.555556</td>\n",
       "      <td>5849.0</td>\n",
       "      <td>0.060789</td>\n",
       "    </tr>\n",
       "    <tr>\n",
       "      <th>1</th>\n",
       "      <td>4583.0</td>\n",
       "      <td>1508.0</td>\n",
       "      <td>128.0</td>\n",
       "      <td>360.0</td>\n",
       "      <td>LP001003</td>\n",
       "      <td>Male</td>\n",
       "      <td>Yes</td>\n",
       "      <td>1</td>\n",
       "      <td>Graduate</td>\n",
       "      <td>No</td>\n",
       "      <td>1.0</td>\n",
       "      <td>Rural</td>\n",
       "      <td>N</td>\n",
       "      <td>355.555556</td>\n",
       "      <td>6091.0</td>\n",
       "      <td>0.058374</td>\n",
       "    </tr>\n",
       "    <tr>\n",
       "      <th>2</th>\n",
       "      <td>3000.0</td>\n",
       "      <td>0.0</td>\n",
       "      <td>66.0</td>\n",
       "      <td>360.0</td>\n",
       "      <td>LP001005</td>\n",
       "      <td>Male</td>\n",
       "      <td>Yes</td>\n",
       "      <td>0</td>\n",
       "      <td>Graduate</td>\n",
       "      <td>Yes</td>\n",
       "      <td>1.0</td>\n",
       "      <td>Urban</td>\n",
       "      <td>Y</td>\n",
       "      <td>183.333333</td>\n",
       "      <td>3000.0</td>\n",
       "      <td>0.061111</td>\n",
       "    </tr>\n",
       "    <tr>\n",
       "      <th>3</th>\n",
       "      <td>2583.0</td>\n",
       "      <td>2358.0</td>\n",
       "      <td>120.0</td>\n",
       "      <td>360.0</td>\n",
       "      <td>LP001006</td>\n",
       "      <td>Male</td>\n",
       "      <td>Yes</td>\n",
       "      <td>0</td>\n",
       "      <td>Not Graduate</td>\n",
       "      <td>No</td>\n",
       "      <td>1.0</td>\n",
       "      <td>Urban</td>\n",
       "      <td>Y</td>\n",
       "      <td>333.333333</td>\n",
       "      <td>4941.0</td>\n",
       "      <td>0.067463</td>\n",
       "    </tr>\n",
       "    <tr>\n",
       "      <th>4</th>\n",
       "      <td>6000.0</td>\n",
       "      <td>0.0</td>\n",
       "      <td>141.0</td>\n",
       "      <td>360.0</td>\n",
       "      <td>LP001008</td>\n",
       "      <td>Male</td>\n",
       "      <td>No</td>\n",
       "      <td>0</td>\n",
       "      <td>Graduate</td>\n",
       "      <td>No</td>\n",
       "      <td>1.0</td>\n",
       "      <td>Urban</td>\n",
       "      <td>Y</td>\n",
       "      <td>391.666667</td>\n",
       "      <td>6000.0</td>\n",
       "      <td>0.065278</td>\n",
       "    </tr>\n",
       "    <tr>\n",
       "      <th>...</th>\n",
       "      <td>...</td>\n",
       "      <td>...</td>\n",
       "      <td>...</td>\n",
       "      <td>...</td>\n",
       "      <td>...</td>\n",
       "      <td>...</td>\n",
       "      <td>...</td>\n",
       "      <td>...</td>\n",
       "      <td>...</td>\n",
       "      <td>...</td>\n",
       "      <td>...</td>\n",
       "      <td>...</td>\n",
       "      <td>...</td>\n",
       "      <td>...</td>\n",
       "      <td>...</td>\n",
       "      <td>...</td>\n",
       "    </tr>\n",
       "    <tr>\n",
       "      <th>609</th>\n",
       "      <td>2900.0</td>\n",
       "      <td>0.0</td>\n",
       "      <td>71.0</td>\n",
       "      <td>360.0</td>\n",
       "      <td>LP002978</td>\n",
       "      <td>Female</td>\n",
       "      <td>No</td>\n",
       "      <td>0</td>\n",
       "      <td>Graduate</td>\n",
       "      <td>No</td>\n",
       "      <td>1.0</td>\n",
       "      <td>Rural</td>\n",
       "      <td>Y</td>\n",
       "      <td>197.222222</td>\n",
       "      <td>2900.0</td>\n",
       "      <td>0.068008</td>\n",
       "    </tr>\n",
       "    <tr>\n",
       "      <th>610</th>\n",
       "      <td>4106.0</td>\n",
       "      <td>0.0</td>\n",
       "      <td>40.0</td>\n",
       "      <td>180.0</td>\n",
       "      <td>LP002979</td>\n",
       "      <td>Male</td>\n",
       "      <td>Yes</td>\n",
       "      <td>3+</td>\n",
       "      <td>Graduate</td>\n",
       "      <td>No</td>\n",
       "      <td>1.0</td>\n",
       "      <td>Rural</td>\n",
       "      <td>Y</td>\n",
       "      <td>222.222222</td>\n",
       "      <td>4106.0</td>\n",
       "      <td>0.054121</td>\n",
       "    </tr>\n",
       "    <tr>\n",
       "      <th>611</th>\n",
       "      <td>8072.0</td>\n",
       "      <td>240.0</td>\n",
       "      <td>253.0</td>\n",
       "      <td>360.0</td>\n",
       "      <td>LP002983</td>\n",
       "      <td>Male</td>\n",
       "      <td>Yes</td>\n",
       "      <td>1</td>\n",
       "      <td>Graduate</td>\n",
       "      <td>No</td>\n",
       "      <td>1.0</td>\n",
       "      <td>Urban</td>\n",
       "      <td>Y</td>\n",
       "      <td>702.777778</td>\n",
       "      <td>8312.0</td>\n",
       "      <td>0.084550</td>\n",
       "    </tr>\n",
       "    <tr>\n",
       "      <th>612</th>\n",
       "      <td>7583.0</td>\n",
       "      <td>0.0</td>\n",
       "      <td>187.0</td>\n",
       "      <td>360.0</td>\n",
       "      <td>LP002984</td>\n",
       "      <td>Male</td>\n",
       "      <td>Yes</td>\n",
       "      <td>2</td>\n",
       "      <td>Graduate</td>\n",
       "      <td>No</td>\n",
       "      <td>1.0</td>\n",
       "      <td>Urban</td>\n",
       "      <td>Y</td>\n",
       "      <td>519.444444</td>\n",
       "      <td>7583.0</td>\n",
       "      <td>0.068501</td>\n",
       "    </tr>\n",
       "    <tr>\n",
       "      <th>613</th>\n",
       "      <td>4583.0</td>\n",
       "      <td>0.0</td>\n",
       "      <td>133.0</td>\n",
       "      <td>360.0</td>\n",
       "      <td>LP002990</td>\n",
       "      <td>Female</td>\n",
       "      <td>No</td>\n",
       "      <td>0</td>\n",
       "      <td>Graduate</td>\n",
       "      <td>Yes</td>\n",
       "      <td>0.0</td>\n",
       "      <td>Semiurban</td>\n",
       "      <td>N</td>\n",
       "      <td>369.444444</td>\n",
       "      <td>4583.0</td>\n",
       "      <td>0.080612</td>\n",
       "    </tr>\n",
       "  </tbody>\n",
       "</table>\n",
       "<p>614 rows × 16 columns</p>\n",
       "</div>"
      ],
      "text/plain": [
       "     ApplicantIncome  CoapplicantIncome  LoanAmount  Loan_Amount_Term  \\\n",
       "0             5849.0                0.0       128.0             360.0   \n",
       "1             4583.0             1508.0       128.0             360.0   \n",
       "2             3000.0                0.0        66.0             360.0   \n",
       "3             2583.0             2358.0       120.0             360.0   \n",
       "4             6000.0                0.0       141.0             360.0   \n",
       "..               ...                ...         ...               ...   \n",
       "609           2900.0                0.0        71.0             360.0   \n",
       "610           4106.0                0.0        40.0             180.0   \n",
       "611           8072.0              240.0       253.0             360.0   \n",
       "612           7583.0                0.0       187.0             360.0   \n",
       "613           4583.0                0.0       133.0             360.0   \n",
       "\n",
       "      Loan_ID  Gender Married Dependents     Education Self_Employed  \\\n",
       "0    LP001002    Male      No          0      Graduate            No   \n",
       "1    LP001003    Male     Yes          1      Graduate            No   \n",
       "2    LP001005    Male     Yes          0      Graduate           Yes   \n",
       "3    LP001006    Male     Yes          0  Not Graduate            No   \n",
       "4    LP001008    Male      No          0      Graduate            No   \n",
       "..        ...     ...     ...        ...           ...           ...   \n",
       "609  LP002978  Female      No          0      Graduate            No   \n",
       "610  LP002979    Male     Yes         3+      Graduate            No   \n",
       "611  LP002983    Male     Yes          1      Graduate            No   \n",
       "612  LP002984    Male     Yes          2      Graduate            No   \n",
       "613  LP002990  Female      No          0      Graduate           Yes   \n",
       "\n",
       "    Credit_History Property_Area Loan_Status  vl_parcela_mensal  \\\n",
       "0              1.0         Urban           Y         355.555556   \n",
       "1              1.0         Rural           N         355.555556   \n",
       "2              1.0         Urban           Y         183.333333   \n",
       "3              1.0         Urban           Y         333.333333   \n",
       "4              1.0         Urban           Y         391.666667   \n",
       "..             ...           ...         ...                ...   \n",
       "609            1.0         Rural           Y         197.222222   \n",
       "610            1.0         Rural           Y         222.222222   \n",
       "611            1.0         Urban           Y         702.777778   \n",
       "612            1.0         Urban           Y         519.444444   \n",
       "613            0.0     Semiurban           N         369.444444   \n",
       "\n",
       "     salario_total  percentual_salario  \n",
       "0           5849.0            0.060789  \n",
       "1           6091.0            0.058374  \n",
       "2           3000.0            0.061111  \n",
       "3           4941.0            0.067463  \n",
       "4           6000.0            0.065278  \n",
       "..             ...                 ...  \n",
       "609         2900.0            0.068008  \n",
       "610         4106.0            0.054121  \n",
       "611         8312.0            0.084550  \n",
       "612         7583.0            0.068501  \n",
       "613         4583.0            0.080612  \n",
       "\n",
       "[614 rows x 16 columns]"
      ]
     },
     "execution_count": 24,
     "metadata": {},
     "output_type": "execute_result"
    }
   ],
   "source": [
    "loas_dataset_tratada"
   ]
  },
  {
   "cell_type": "code",
   "execution_count": 25,
   "id": "c89fb348-703c-47a9-bb74-40803cebae53",
   "metadata": {},
   "outputs": [
    {
     "data": {
      "text/plain": [
       "<AxesSubplot:xlabel='salario_total', ylabel='Gender'>"
      ]
     },
     "execution_count": 25,
     "metadata": {},
     "output_type": "execute_result"
    },
    {
     "data": {
      "image/png": "[encoded data removed]",
      "text/plain": [
       "<Figure size 1008x576 with 1 Axes>"
      ]
     },
     "metadata": {
      "needs_background": "light"
     },
     "output_type": "display_data"
    }
   ],
   "source": [
    "sns.boxplot(data = loas_dataset_tratada, x='salario_total', y='Gender')"
   ]
  },
  {
   "cell_type": "code",
   "execution_count": 26,
   "id": "57b3af94-aa59-42bd-9819-a5fe27ca7262",
   "metadata": {},
   "outputs": [
    {
     "data": {
      "text/plain": [
       "<AxesSubplot:xlabel='salario_total', ylabel='Married'>"
      ]
     },
     "execution_count": 26,
     "metadata": {},
     "output_type": "execute_result"
    },
    {
     "data": {
      "image/png": "[encoded data removed]",
      "text/plain": [
       "<Figure size 1008x576 with 1 Axes>"
      ]
     },
     "metadata": {
      "needs_background": "light"
     },
     "output_type": "display_data"
    }
   ],
   "source": [
    "sns.boxplot(data = loas_dataset_tratada, x='salario_total', y='Married')"
   ]
  },
  {
   "cell_type": "code",
   "execution_count": 27,
   "id": "ea15df1a-d2fb-466f-b5bd-65ca42851e81",
   "metadata": {},
   "outputs": [
    {
     "data": {
      "text/plain": [
       "<AxesSubplot:xlabel='salario_total', ylabel='Education'>"
      ]
     },
     "execution_count": 27,
     "metadata": {},
     "output_type": "execute_result"
    },
    {
     "data": {
      "image/png": "[encoded data removed]",
      "text/plain": [
       "<Figure size 1008x576 with 1 Axes>"
      ]
     },
     "metadata": {
      "needs_background": "light"
     },
     "output_type": "display_data"
    }
   ],
   "source": [
    "sns.boxplot(data = loas_dataset_tratada, x='salario_total', y='Education')"
   ]
  },
  {
   "cell_type": "code",
   "execution_count": 28,
   "id": "ba5bb0e0-6915-490c-8b1b-3e6784f86e0d",
   "metadata": {},
   "outputs": [
    {
     "data": {
      "text/plain": [
       "<AxesSubplot:xlabel='salario_total', ylabel='Property_Area'>"
      ]
     },
     "execution_count": 28,
     "metadata": {},
     "output_type": "execute_result"
    },
    {
     "data": {
      "image/png": "[encoded data removed]",
      "text/plain": [
       "<Figure size 1008x576 with 1 Axes>"
      ]
     },
     "metadata": {
      "needs_background": "light"
     },
     "output_type": "display_data"
    }
   ],
   "source": [
    "sns.boxplot(data = loas_dataset_tratada, x='salario_total', y='Property_Area')"
   ]
  },
  {
   "cell_type": "code",
   "execution_count": 29,
   "id": "ff98b76c-a1eb-4965-a174-695dcd9f3615",
   "metadata": {},
   "outputs": [
    {
     "data": {
      "text/plain": [
       "<AxesSubplot:xlabel='salario_total', ylabel='Self_Employed'>"
      ]
     },
     "execution_count": 29,
     "metadata": {},
     "output_type": "execute_result"
    },
    {
     "data": {
      "image/png": "[encoded data removed]",
      "text/plain": [
       "<Figure size 1008x576 with 1 Axes>"
      ]
     },
     "metadata": {
      "needs_background": "light"
     },
     "output_type": "display_data"
    }
   ],
   "source": [
    "sns.boxplot(data = loas_dataset_tratada, x='salario_total', y='Self_Employed')"
   ]
  },
  {
   "cell_type": "code",
   "execution_count": 30,
   "id": "393d6e03-3d7b-4cec-ab71-b39f8aff0131",
   "metadata": {},
   "outputs": [],
   "source": [
    "# sns.pairplot(loas_dataset_tratada, hue='Loan_Status')"
   ]
  },
  {
   "cell_type": "code",
   "execution_count": 31,
   "id": "d81b2453-90bf-4f0d-99a2-8b6506199092",
   "metadata": {},
   "outputs": [],
   "source": [
    "loas_dataset_tratada['Credit_History'] = loas_dataset_tratada['Credit_History'].astype('string')"
   ]
  },
  {
   "cell_type": "code",
   "execution_count": 32,
   "id": "37e2a3c2-a1e6-4e46-987d-50fe8b87b4ef",
   "metadata": {},
   "outputs": [
    {
     "data": {
      "text/plain": [
       "<AxesSubplot:xlabel='salario_total', ylabel='Credit_History'>"
      ]
     },
     "execution_count": 32,
     "metadata": {},
     "output_type": "execute_result"
    },
    {
     "data": {
      "image/png": "[encoded data removed]",
      "text/plain": [
       "<Figure size 1008x576 with 1 Axes>"
      ]
     },
     "metadata": {
      "needs_background": "light"
     },
     "output_type": "display_data"
    }
   ],
   "source": [
    "sns.boxplot(data = loas_dataset_tratada, x='salario_total', y='Credit_History')"
   ]
  },
  {
   "cell_type": "code",
   "execution_count": 33,
   "id": "468ba4fa-9e84-4209-938f-98a84adfbf8a",
   "metadata": {},
   "outputs": [
    {
     "data": {
      "text/plain": [
       "<AxesSubplot:xlabel='CoapplicantIncome', ylabel='Credit_History'>"
      ]
     },
     "execution_count": 33,
     "metadata": {},
     "output_type": "execute_result"
    },
    {
     "data": {
      "image/png": "[encoded data removed]",
      "text/plain": [
       "<Figure size 1008x576 with 1 Axes>"
      ]
     },
     "metadata": {
      "needs_background": "light"
     },
     "output_type": "display_data"
    }
   ],
   "source": [
    "sns.boxplot(data = loas_dataset_tratada, x='CoapplicantIncome', y='Credit_History')"
   ]
  },
  {
   "cell_type": "code",
   "execution_count": 34,
   "id": "5a098748-3aa0-4de4-9a8a-c75cea3471ee",
   "metadata": {},
   "outputs": [],
   "source": [
    "corte = np.quantile(loas_dataset_tratada['percentual_salario'].values, 0.99)"
   ]
  },
  {
   "cell_type": "code",
   "execution_count": 35,
   "id": "e0213a9c-da4f-4f03-b604-2296e905c198",
   "metadata": {},
   "outputs": [],
   "source": [
    "loas_dataset_tratada = loas_dataset_tratada[loas_dataset_tratada['percentual_salario'] <= corte]"
   ]
  },
  {
   "cell_type": "code",
   "execution_count": 36,
   "id": "ec250d8a-8d8d-4050-92d6-f0014e570a48",
   "metadata": {},
   "outputs": [
    {
     "data": {
      "text/plain": [
       "Y    0.686985\n",
       "N    0.313015\n",
       "Name: Loan_Status, dtype: float64"
      ]
     },
     "execution_count": 36,
     "metadata": {},
     "output_type": "execute_result"
    }
   ],
   "source": [
    "loas_dataset_tratada['Loan_Status'].value_counts()/loas_dataset_tratada['Loan_Status'].count()"
   ]
  },
  {
   "cell_type": "code",
   "execution_count": 37,
   "id": "e4c30cfa-d5d3-4e17-834f-792439cdb095",
   "metadata": {},
   "outputs": [],
   "source": [
    "loas_dataset_tratada.drop(['salario_total', 'Loan_ID'], axis=1, inplace=True)"
   ]
  },
  {
   "cell_type": "code",
   "execution_count": 38,
   "id": "5d719358-5517-4dc9-ad61-e9a75e8012f3",
   "metadata": {},
   "outputs": [],
   "source": [
    "stardard = StandardScaler()"
   ]
  },
  {
   "cell_type": "code",
   "execution_count": 39,
   "id": "48d4d25c-292d-41f4-a242-74480c3ec798",
   "metadata": {
    "tags": []
   },
   "outputs": [],
   "source": [
    "target = loas_dataset_tratada.pop('Loan_Status')"
   ]
  },
  {
   "cell_type": "code",
   "execution_count": 40,
   "id": "315b4fd6-d306-48f4-80e9-448a1af361a3",
   "metadata": {},
   "outputs": [],
   "source": [
    "base_numerais = loas_dataset_tratada.drop(['Gender', 'Married', 'Dependents', 'Education', 'Self_Employed', 'Credit_History', 'Property_Area'], axis=1)"
   ]
  },
  {
   "cell_type": "code",
   "execution_count": 41,
   "id": "b987a3db-1a55-482e-b0db-614aba2dc82d",
   "metadata": {},
   "outputs": [],
   "source": [
    "base_numerais = stardard.fit_transform(base_numerais)"
   ]
  },
  {
   "cell_type": "code",
   "execution_count": 42,
   "id": "f3f0f0d9-bb59-45b7-bd6d-b0c9b8d57457",
   "metadata": {},
   "outputs": [],
   "source": [
    "base_numerais_normalizado = pd.DataFrame(base_numerais, columns=stardard.feature_names_in_)"
   ]
  },
  {
   "cell_type": "code",
   "execution_count": 43,
   "id": "17fa9e29-3a26-46e9-8dba-bbcf358e2dbf",
   "metadata": {},
   "outputs": [],
   "source": [
    "base_categorica = pd.get_dummies(loas_dataset_tratada[['Gender', 'Married', 'Dependents', 'Education', 'Self_Employed', 'Credit_History', 'Property_Area']], drop_first=True)"
   ]
  },
  {
   "cell_type": "code",
   "execution_count": 44,
   "id": "680b32d2-3440-4662-9e98-a92afe33b213",
   "metadata": {},
   "outputs": [],
   "source": [
    "base_tratada = pd.concat((base_numerais_normalizado.reset_index(drop=True), base_categorica.reset_index(drop=True)), axis=1, verify_integrity=True)"
   ]
  },
  {
   "cell_type": "code",
   "execution_count": 45,
   "id": "86f3217b-9922-47b2-a933-070b9ecd8ca1",
   "metadata": {},
   "outputs": [],
   "source": [
    "x_train, x_validador, y_train, y_validador = train_test_split(base_tratada.values, target.values, random_state = 42, test_size = 0.2)"
   ]
  },
  {
   "cell_type": "code",
   "execution_count": 71,
   "id": "d3187188-44e6-477c-96b7-a487939de40f",
   "metadata": {},
   "outputs": [
    {
     "name": "stdout",
     "output_type": "stream",
     "text": [
      "modelo:  LogisticRegressionCV , scores:  [0.78 0.86 0.81 0.81 0.78] , media:  0.81\n",
      "modelo:  RandomForestClassifier , scores:  [0.79 0.82 0.85 0.82 0.78] , media:  0.81\n",
      "modelo:  AdaBoostClassifier , scores:  [0.79 0.84 0.74 0.76 0.78] , media:  0.78\n",
      "modelo:  GradientBoostingClassifier , scores:  [0.75 0.85 0.77 0.78 0.75] , media:  0.78\n",
      "modelo:  LinearSVC , scores:  [0.78 0.86 0.8  0.81 0.78] , media:  0.81\n",
      "modelo:  LGBMClassifier , scores:  [0.77 0.81 0.8  0.77 0.79] , media:  0.79\n"
     ]
    }
   ],
   "source": [
    "models = [LogisticRegressionCV(), RandomForestClassifier(), AdaBoostClassifier(), GradientBoostingClassifier(), LinearSVC(), lgb.LGBMClassifier()]\n",
    "\n",
    "for model in models:\n",
    "    scores = cross_val_score(model, x_train, y_train, cv=KFold(5))\n",
    "    print('modelo: ', model.__class__.__name__, ', scores: ', np.round(scores, 2), ', media: ', round(scores.mean(), 2))"
   ]
  }
 ],
 "metadata": {
  "kernelspec": {
   "display_name": "Python 3 (ipykernel)",
   "language": "python",
   "name": "python3"
  },
  "language_info": {
   "codemirror_mode": {
    "name": "ipython",
    "version": 3
   },
   "file_extension": ".py",
   "mimetype": "text/x-python",
   "name": "python",
   "nbconvert_exporter": "python",
   "pygments_lexer": "ipython3",
   "version": "3.9.12"
  }
 },
 "nbformat": 4,
 "nbformat_minor": 5
}
